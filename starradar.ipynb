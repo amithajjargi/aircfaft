{
 "cells": [
  {
   "cell_type": "code",
   "execution_count": 1,
   "metadata": {},
   "outputs": [
    {
     "name": "stdout",
     "output_type": "stream",
     "text": [
      "pygame 2.5.2 (SDL 2.28.3, Python 3.12.2)\n",
      "Hello from the pygame community. https://www.pygame.org/contribute.html\n"
     ]
    }
   ],
   "source": [
    "import pygame\n",
    "\n",
    "pygame.init()\n",
    "\n",
    "window = pygame.display.set_mode((1280, 720))\n",
    "\n",
    "window.fill((255, 255, 255))\n",
    "#pygame.draw.polygon(window, color=(0, 0, 0), points=[(50, 25), (60, 30), (70, 15), (50, 25), (65, 20), (50, 15)], width=1)\n",
    "#pygame.draw.polygon(window, color=(0, 0, 0), points=[(50, 45), (45, 65), (30, 69)], width=1)\n",
    "pygame.draw.aaline(window, (0, 0, 0), (10, 600), (1200, 400))\n",
    "pygame.draw.line(window, color=(0, 0, 0),start_pos=(60, 100), end_pos=(40, 70) )\n",
    "pygame.draw.line(window, color=(0, 0, 0),start_pos=(40, 70), end_pos=(60, 70) )\n",
    "pygame.draw.line(window, color=(0, 0, 0),start_pos=(60, 70), end_pos=(70, 80) )\n",
    "pygame.draw.line(window, color=(0, 0, 0),start_pos=(70, 80), end_pos=(120, 80) )\n",
    "pygame.draw.line(window, color=(0, 0, 0),start_pos=(120, 80), end_pos=(100, 40) )\n",
    "pygame.draw.line(window, color=(0, 0, 0),start_pos=(100, 40), end_pos=(120, 45) )\n",
    "pygame.draw.line(window, color=(0, 0, 0),start_pos=(120, 45), end_pos=(150, 80) )\n",
    "pygame.draw.line(window, color=(0, 0, 0),start_pos=(150, 80), end_pos=(200, 80) )\n",
    "pygame.draw.line(window, color=(0, 0, 0),start_pos=(200, 80), end_pos=(240, 100) )\n",
    "pygame.draw.line(window, color=(0, 0, 0),start_pos=(240, 100), end_pos=(200, 120) )\n",
    "pygame.draw.line(window, color=(0, 0, 0),start_pos=(200, 120), end_pos=(150, 120) )\n",
    "pygame.draw.line(window, color=(0, 0, 0),start_pos=(60, 100), end_pos=(40, 130) )\n",
    "pygame.draw.line(window, color=(0, 0, 0),start_pos=(40, 130), end_pos=(60, 130) )\n",
    "pygame.draw.line(window, color=(0, 0, 0),start_pos=(60, 130), end_pos=(70, 120) )\n",
    "pygame.draw.line(window, color=(0, 0, 0),start_pos=(70, 120), end_pos=(120, 120) )\n",
    "pygame.draw.line(window, color=(0, 0, 0),start_pos=(120, 120), end_pos=(100, 160) )\n",
    "pygame.draw.line(window, color=(0, 0, 0),start_pos=(100, 160), end_pos=(120, 155) )\n",
    "pygame.draw.line(window, color=(0, 0, 0),start_pos=(120, 155), end_pos=(150, 120) )\n",
    "\n",
    "\n",
    "\n",
    "#Creating Rador By Star And Rador\n",
    "\n",
    "\n",
    "\n",
    "pygame.draw.aaline(window, color=(0, 0, 0), start_pos=(200, 290), end_pos=(220, 230))\n",
    "pygame.draw.aaline(window, color=(0, 0, 0), start_pos=(220, 230), end_pos=(240, 290))\n",
    "pygame.draw.aaline(window, color=(0, 0, 0), start_pos=(240, 290), end_pos=(200, 250))\n",
    "pygame.draw.aaline(window, color=(0, 0, 0), start_pos=(200, 250), end_pos=(240, 250))\n",
    "pygame.draw.aaline(window, color=(0, 0, 0), start_pos=(240, 250), end_pos=(200, 290))\n",
    "\n",
    "pygame.draw.circle(window, (0, 0, 0), (800, 200),  20, 1)\n",
    "\n",
    "pygame.display.update()\n",
    "input()\n"
   ]
  }
 ],
 "metadata": {
  "kernelspec": {
   "display_name": "Python 3",
   "language": "python",
   "name": "python3"
  },
  "language_info": {
   "codemirror_mode": {
    "name": "ipython",
    "version": 3
   },
   "file_extension": ".py",
   "mimetype": "text/x-python",
   "name": "python",
   "nbconvert_exporter": "python",
   "pygments_lexer": "ipython3",
   "version": "3.12.2"
  }
 },
 "nbformat": 4,
 "nbformat_minor": 2
}
