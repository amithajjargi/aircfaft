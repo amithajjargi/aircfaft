{
 "cells": [
  {
   "cell_type": "code",
   "execution_count": 1,
   "metadata": {},
   "outputs": [
    {
     "name": "stdout",
     "output_type": "stream",
     "text": [
      "pygame 2.5.2 (SDL 2.28.3, Python 3.12.2)\n",
      "Hello from the pygame community. https://www.pygame.org/contribute.html\n"
     ]
    },
    {
     "data": {
      "text/plain": [
       "''"
      ]
     },
     "execution_count": 1,
     "metadata": {},
     "output_type": "execute_result"
    }
   ],
   "source": [
    "import pygame\n",
    "\n",
    "pygame.init()\n",
    "\n",
    "window = pygame.display.set_mode((1280, 720))\n",
    "\n",
    "window.fill((255, 255, 255))\n",
    "\n",
    "\n",
    "\n",
    "#pygame.draw.polygon(window, color=(0, 0, 0), points=[(120, 240), (360, 480), (600, 480), (840, 240), (600, 0), (360, 0)], width=1)\n",
    "#pygame.draw.circle(window, color=(0, 0, 0), center=(200, 360), radius=20, width=1)\n",
    "#pygame.draw.rect(window, color=(0, 0, 0), rect=[200, 100, 200, 400], width=1)\n",
    "#pygame.draw.line(window, color=(0, 0, 0), start_pos=(50, 500), end_pos=(900, 400), width=1)\n",
    "pygame.draw.rect(window, color=(0, 0, 0), rect=(60, 200, 100, 100), width=1)\n",
    "pygame.draw.circle(window, color=(0, 0, 0), center=(300, 300), radius=50, width=1)\n",
    "pygame.draw.polygon(window, color=(0, 0, 0), points=[(30, 50), (45, 80), (70, 80), (85, 50), (70, 20), (45, 20)])\n",
    "pygame.draw.ellipse(window, color=(0, 0, 0), rect=(400, 100, 400, 100), width=1)\n",
    "\n",
    "pygame.draw.aaline(window, color=(0, 0, 0), start_pos=(10, 600), end_pos=(1200, 400))\n",
    "\n",
    "\n",
    "\n",
    "\n",
    "pygame.display.update()\n",
    "input()"
   ]
  }
 ],
 "metadata": {
  "kernelspec": {
   "display_name": "Python 3",
   "language": "python",
   "name": "python3"
  },
  "language_info": {
   "codemirror_mode": {
    "name": "ipython",
    "version": 3
   },
   "file_extension": ".py",
   "mimetype": "text/x-python",
   "name": "python",
   "nbconvert_exporter": "python",
   "pygments_lexer": "ipython3",
   "version": "3.12.2"
  }
 },
 "nbformat": 4,
 "nbformat_minor": 2
}
